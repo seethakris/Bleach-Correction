{
 "cells": [
  {
   "cell_type": "markdown",
   "metadata": {},
   "source": [
    "# Correct Bleaching in bongwoori dataset"
   ]
  },
  {
   "cell_type": "markdown",
   "metadata": {},
   "source": [
    "## User Input\n",
    "\n",
    "**Note: Tiff files should be uint8. Can only handle single planes\n",
    "Press alt+f to run the entire file**"
   ]
  },
  {
   "cell_type": "code",
   "execution_count": null,
   "metadata": {
    "collapsed": true
   },
   "outputs": [],
   "source": [
    "#Name of tif file\n",
    "Filename = '/Users/seetha/Desktop/Bleach_Correction/150116/Tiff/13dpf1e.tif'\n",
    "\n",
    "# Stimulus on and off time\n",
    "stimulus_on_time = [0]\n",
    "stimulus_off_time = [0]"
   ]
  },
  {
   "cell_type": "markdown",
   "metadata": {},
   "source": [
    "### Import libraries "
   ]
  },
  {
   "cell_type": "code",
   "execution_count": null,
   "metadata": {
    "collapsed": false
   },
   "outputs": [],
   "source": [
    "# libraries\n",
    "from tifffile import TiffFile\n",
    "import numpy as np\n",
    "import matplotlib.pyplot as plt\n",
    "import matplotlib.patches as patches\n",
    "from thunder import Colorize\n",
    "import seaborn as sns\n",
    "import fit\n",
    "import cv2\n",
    "from scipy.optimize import curve_fit\n",
    "from copy import copy\n",
    "from skimage.morphology import erosion\n",
    "from skimage.morphology import disk\n",
    "import os\n",
    "from scipy.ndimage.filters import median_filter\n",
    "from smooth import smooth\n",
    "from tifffile import imsave\n",
    "from PIL import Image\n",
    "\n",
    "filesep = os.path.sep\n",
    "image = Colorize.image\n",
    "%matplotlib inline"
   ]
  },
  {
   "cell_type": "code",
   "execution_count": null,
   "metadata": {
    "collapsed": true
   },
   "outputs": [],
   "source": [
    "#center image\n",
    "def center(m):\n",
    "    y = m.copy()\n",
    "    y[y > 0] = y[y > 0] / max(y[y > 0])\n",
    "    y[y < 0] = y[y < 0] / -min(y[y < 0])\n",
    "    return y"
   ]
  },
  {
   "cell_type": "markdown",
   "metadata": {},
   "source": [
    "## Load Image and subtract background"
   ]
  },
  {
   "cell_type": "markdown",
   "metadata": {},
   "source": [
    "### Load tif file"
   ]
  },
  {
   "cell_type": "code",
   "execution_count": null,
   "metadata": {
    "collapsed": false
   },
   "outputs": [],
   "source": [
    "#Load tif file\n",
    "with TiffFile(Filename) as tif:\n",
    "    images = tif.asarray()\n",
    "    \n",
    "print 'Size of Image File (t,x,y): ' + str(np.shape(images))\n",
    "print 'Data Type: ' + str(images.dtype)\n",
    "\n",
    "\n",
    "if images.dtype != 'uint8':\n",
    "    raise(ValueError('Image is not uint8. Please convert with ImageJ before proceeding'))\n",
    "else:\n",
    "    t,x,y = np.shape(images)\n",
    "    images_pixels = np.reshape(images, (t,x*y))"
   ]
  },
  {
   "cell_type": "markdown",
   "metadata": {},
   "source": [
    "### Background subtraction of image using user input"
   ]
  },
  {
   "cell_type": "code",
   "execution_count": null,
   "metadata": {
    "collapsed": false
   },
   "outputs": [],
   "source": [
    "#Background ROI\n",
    "bg_roi_wh = [10, 10]\n",
    "start_point = [0, 120]\n",
    "\n",
    "#Get background subtracted data\n",
    "bg_image_trace = images[:, start_point[0]:start_point[0]+bg_roi_wh[0], \n",
    "                        start_point[1]:start_point[1]+bg_roi_wh[1]]\n",
    "shape_bg_image = np.shape(bg_image_trace)\n",
    "bg_image_trace = np.reshape(bg_image_trace, (shape_bg_image[0],shape_bg_image[1]*shape_bg_image[2]))\n",
    "\n",
    "# Subtract background and replot\n",
    "bg_image = np.mean(bg_image_trace,1)\n",
    "bg_image = np.repeat(bg_image[:,np.newaxis], np.size(images,1) , 1)\n",
    "bg_image = np.repeat(bg_image[:,:,np.newaxis], np.size(images,2), 2)\n",
    "\n",
    "shape_bg_image = np.shape(bg_image)\n",
    "bg_subtracted_image = images - bg_image\n",
    "\n",
    "print 'Data Type: ' + str(bg_subtracted_image.dtype)"
   ]
  },
  {
   "cell_type": "code",
   "execution_count": null,
   "metadata": {
    "collapsed": false
   },
   "outputs": [],
   "source": [
    "#Plots of raw and background subtracted image\n",
    "\n",
    "with sns.axes_style('darkgrid'):\n",
    "    fig2 = plt.figure(figsize=(15,5))\n",
    "    gs = plt.GridSpec(3, 3, width_ratios=[1.5,1,1], height_ratios=[2,1,2])\n",
    "\n",
    "    #Plot image\n",
    "    ax1 =  fig2.add_subplot(gs[0,0])\n",
    "    image(np.mean(images,0), cmap='gray')\n",
    "    plt.grid('on')\n",
    "    plt.title('Raw Data')\n",
    "    h = ax1.add_patch(patches.Rectangle((start_point[0], start_point[1]),\n",
    "                                    bg_roi_wh[0],bg_roi_wh[1],facecolor=\"red\", label='Background ROI'))\n",
    "    plt.legend(loc=9, bbox_to_anchor=(0.5,0))\n",
    "    \n",
    "    #Plot mean trace\n",
    "    ax2 = fig2.add_subplot(gs[0,1])\n",
    "    ax2.plot(np.mean(images_pixels,1))\n",
    "    ax2.locator_params(axis='y', nbins=4)\n",
    "    plt.title('Mean traces')\n",
    "    \n",
    "    #plot background trace\n",
    "    ax3 = fig2.add_subplot(gs[0,2])\n",
    "    ax3.plot(np.mean(bg_image_trace,1))\n",
    "    ax3.locator_params(axis='y', nbins=4)\n",
    "    plt.title('Background ROI trace')\n",
    "\n",
    "    #Plot bg subtracted image\n",
    "    ax4 =  fig2.add_subplot(gs[2,0])\n",
    "    image(np.mean(bg_subtracted_image,0), cmap='gray')\n",
    "    plt.title('Background Subtracted')\n",
    "    plt.grid('on')\n",
    "\n",
    "    #Plot mean trace from background subtracted image\n",
    "    ax5 =  fig2.add_subplot(gs[2,1])\n",
    "    shape_bg_subtracted_image = np.shape(bg_subtracted_image)\n",
    "    bg_subtracted_image_pixels = np.reshape(bg_subtracted_image, \n",
    "                                            (shape_bg_subtracted_image[0],\n",
    "                                             shape_bg_subtracted_image[1]*shape_bg_subtracted_image[2]))\n",
    "    ax5.plot(np.mean(bg_subtracted_image_pixels, 1))\n",
    "    ax5.locator_params(axis='y', nbins=4)"
   ]
  },
  {
   "cell_type": "markdown",
   "metadata": {},
   "source": [
    "## Bleach Correction Algorithm"
   ]
  },
  {
   "cell_type": "markdown",
   "metadata": {},
   "source": [
    "### Step1 : Get only Gcamp Labelled area of the image using standard deviation"
   ]
  },
  {
   "cell_type": "code",
   "execution_count": null,
   "metadata": {
    "collapsed": false
   },
   "outputs": [],
   "source": [
    "# Get all pixels above standard deviation and plot\n",
    "Gcamp_images = copy(bg_subtracted_image)\n",
    "low_values_indices = bg_subtracted_image  < np.std(bg_subtracted_image)   # Where values are low\n",
    "Gcamp_images[low_values_indices] = 0  # All\n",
    "\n",
    "# Remove noise with morphological filters\n",
    "out = np.zeros(np.shape(Gcamp_images), dtype=np.uint8)\n",
    "\n",
    "for ii in range(0, np.size(Gcamp_images,0)):\n",
    "    img = Gcamp_images[ii,:,:].astype(np.uint8)\n",
    "    img_bw = (Gcamp_images[ii,:,:]>0).astype(np.uint8)\n",
    "    \n",
    "    selem = disk(1)\n",
    "    out[ii,:,:] = erosion(img, selem)\n",
    "    \n",
    "Gcamp_images = out\n",
    "\n",
    "print 'Standard Deviation is : ' + str(np.std(bg_subtracted_image))\n",
    "print 'Data Type: ' + str(Gcamp_images.dtype)\n",
    "\n",
    "#Plot Gcamp labelled image\n",
    "with sns.axes_style('darkgrid'):\n",
    "    image(np.mean(Gcamp_images, 0), cmap='gray')\n",
    "    plt.title('Thresholded image')"
   ]
  },
  {
   "cell_type": "markdown",
   "metadata": {},
   "source": [
    "### Step 2 : Normalize image using a background frame "
   ]
  },
  {
   "cell_type": "code",
   "execution_count": null,
   "metadata": {
    "collapsed": false
   },
   "outputs": [],
   "source": [
    "# Decide on a background frame\n",
    "background_frame = np.squeeze(bg_subtracted_image[9,:,:])\n",
    "\n",
    "# Divide each frame by the background frame\n",
    "# normalized_image = np.divide(bg_subtracted_image, (np.repeat(background_frame[np.newaxis, :,:], np.size(images,0), 0)+0.00001))\n",
    "normalized_image = bg_subtracted_image\n",
    "thresholded_gcamp = np.mean(Gcamp_images,0)>0\n",
    "\n",
    "#Multiply by the thresholded image to get only pixels of Gcamp \n",
    "normalized_image = normalized_image * thresholded_gcamp\n",
    "\n",
    "#Dont use the first few frames for fitting\n",
    "normalized_image = normalized_image[10:,:,:]\n",
    "\n",
    "print np.shape(background_frame)\n",
    "print 'Data Type: ' + str(normalized_image.dtype)"
   ]
  },
  {
   "cell_type": "code",
   "execution_count": null,
   "metadata": {
    "collapsed": false
   },
   "outputs": [],
   "source": [
    "# Plot normalized image and trace\n",
    "print np.shape(normalized_image)\n",
    "print 'Data Type: ' + str(normalized_image.dtype)\n",
    "\n",
    "with sns.axes_style('darkgrid'):\n",
    "    fig2 = plt.figure(figsize=(15,5))\n",
    "    gs = plt.GridSpec(1, 2, width_ratios=[2,1])\n",
    "    ax1 =  fig2.add_subplot(gs[0,0])\n",
    "    plt.imshow(np.mean(normalized_image,0), cmap='gray')\n",
    "    plt.colorbar()\n",
    "    plt.title('Normalized')\n",
    "    plt.grid('off')\n",
    "    \n",
    "    \n",
    "    ax5 = fig2.add_subplot(gs[0,1])\n",
    "    shape_normalized_image = np.shape(normalized_image)\n",
    "    normalized_image_pixels = np.reshape(normalized_image, \n",
    "                                            (shape_normalized_image[0],\n",
    "                                             shape_normalized_image[1]*shape_normalized_image[2]))\n",
    "    ax5.plot(np.mean(normalized_image_pixels,1))\n",
    "    ax5.locator_params(axis='y', nbins=4)"
   ]
  },
  {
   "cell_type": "code",
   "execution_count": null,
   "metadata": {
    "collapsed": false
   },
   "outputs": [],
   "source": [
    "#Center image and plot with a blue red colormap\n",
    "# A = center(np.mean(normalized_image,0))\n",
    "# B = center(np.mean(bg_subtracted_image, 0))\n",
    "with sns.axes_style('darkgrid'):\n",
    "    fig2 = plt.figure(figsize=(15,5))\n",
    "    gs = plt.GridSpec(1, 2, width_ratios=[2,1])\n",
    "    ax1 =  fig2.add_subplot(gs[0,0])\n",
    "    plt.imshow(np.mean(bg_subtracted_image,0), cmap='seismic', interpolation='nearest')\n",
    "    plt.colorbar()\n",
    "    plt.title('Normalized')\n",
    "    plt.grid('off')"
   ]
  },
  {
   "cell_type": "code",
   "execution_count": null,
   "metadata": {
    "collapsed": false
   },
   "outputs": [],
   "source": [
    "#Define exponential function\n",
    "def func(x, a, b, c, d):\n",
    "    return a*np.exp(-b*x) + c*np.exp(-d*x)\n",
    "\n",
    "y = np.mean(normalized_image_pixels, 1)\n",
    "x = np.linspace(0, np.size(normalized_image,0), np.size(normalized_image,0))\n",
    "\n",
    "popt, pcov = curve_fit(func, x, y, p0=(1, 1e-8, 1, \n",
    "                                       1e-8))\n",
    "\n",
    "yy = func(x, *popt)\n",
    "\n",
    "#Plot fit\n",
    "with sns.axes_style('darkgrid'):\n",
    "    plt.plot(x, y, 'ko', markersize=2, label='original')\n",
    "    plt.plot(x, yy, label='fit')\n",
    "    plt.legend()"
   ]
  },
  {
   "cell_type": "markdown",
   "metadata": {},
   "source": [
    "### Step 3. Subtract fit from each pixel"
   ]
  },
  {
   "cell_type": "code",
   "execution_count": null,
   "metadata": {
    "collapsed": false
   },
   "outputs": [],
   "source": [
    "correct_image = np.zeros(np.shape(normalized_image))\n",
    "for ii in xrange(0, np.size(normalized_image,0)):\n",
    "    current_image = normalized_image[ii,:,:]\n",
    "    correct_image[ii,:,:] = current_image - yy[ii] #temp_diff\n",
    "print np.shape(correct_image[:])\n",
    "print correct_image.dtype"
   ]
  },
  {
   "cell_type": "code",
   "execution_count": null,
   "metadata": {
    "collapsed": true
   },
   "outputs": [],
   "source": [
    "raw_correct_image = np.multiply(correct_image, (np.repeat(background_frame[np.newaxis, :,:], np.size(normalized_image,0), 0)))\n",
    "\n",
    "smooth_window = 5\n",
    "filtered_correct_image = np.zeros((np.size(correct_image, 0) + smooth_window -1 , np.size(correct_image,1), \n",
    "                                   np.size(correct_image,2)))\n",
    "for ii in xrange(0, np.size(correct_image,1)):\n",
    "    for jj in xrange(0, np.size(correct_image,2)):\n",
    "        if sum(correct_image[:, ii, jj]) == 0:\n",
    "            filtered_correct_image [:, ii, jj] = correct_image[:, ii, jj]\n",
    "        else:\n",
    "            filtered_correct_image [:, ii, jj] = smooth(correct_image[:, ii, jj], smooth_window, 'hanning')"
   ]
  },
  {
   "cell_type": "code",
   "execution_count": null,
   "metadata": {
    "collapsed": false
   },
   "outputs": [],
   "source": [
    "A = np.zeros(np.shape(filtered_correct_image), dtype='uint8')\n",
    "for ii in range(0, np.size(filtered_correct_image, 0)):\n",
    "    A[ii,:,:] = Image.fromarray(filtered_correct_image[ii,:,:])\n",
    "A[A>224] =0\n",
    "A.dtype"
   ]
  },
  {
   "cell_type": "code",
   "execution_count": null,
   "metadata": {
    "collapsed": false
   },
   "outputs": [],
   "source": [
    "filtered_correct_image = normalized_image\n",
    "A = np.zeros(np.shape(filtered_correct_image), dtype='uint8')\n",
    "for ii in range(0, np.size(filtered_correct_image, 0)):\n",
    "    A[ii,:,:] = Image.fromarray(filtered_correct_image[ii,:,:])\n",
    "A[A>224] =0\n",
    "A.dtype"
   ]
  },
  {
   "cell_type": "code",
   "execution_count": null,
   "metadata": {
    "collapsed": false
   },
   "outputs": [],
   "source": [
    "with sns.axes_style('darkgrid'):\n",
    "    fig1 = plt.figure(figsize=(18,3))\n",
    "    gs = plt.GridSpec(1, 3, width_ratios=[1,2,2])\n",
    "    \n",
    "    #Plot image\n",
    "    ax1 = fig1.add_subplot(gs[0,0])\n",
    "    image(np.mean(A,0), cmap='gray')\n",
    "    plt.colorbar()\n",
    "    \n",
    "    ax2 = fig1.add_subplot(gs[0,1])\n",
    "    plt.plot(x, y, 'ko', markersize=2, label='raw fluorescence')\n",
    "#     plt.plot(x, yy, color='#e50000', linewidth=2, label='fit')\n",
    "#     plt.legend()\n",
    "#     ax2.locator_params(axis='y', nbins=6)\n",
    "    \n",
    "#     ax3 = fig1.add_subplot(gs[0,2])\n",
    "#     plt.plot(np.mean(np.reshape(filtered_correct_image,  (shape_normalized_image[0]+smooth_window-1,\n",
    "#                                                  shape_normalized_image[1]*shape_normalized_image[2])),1), \n",
    "#                      color='#029386', label='bleach corrected')\n",
    "#     plt.legend()\n",
    "#     ax3.locator_params(axis='y', nbins=4)\n",
    "    \n",
    "#     fig1.savefig('Bleach corrected.pdf')"
   ]
  },
  {
   "cell_type": "code",
   "execution_count": null,
   "metadata": {
    "collapsed": true
   },
   "outputs": [],
   "source": [
    "from tifffile import imsave\n",
    "imsave('multipage.tif', A)"
   ]
  },
  {
   "cell_type": "code",
   "execution_count": null,
   "metadata": {
    "collapsed": false
   },
   "outputs": [],
   "source": [
    "B = copy(A)\n",
    "print B.shape[0]\n",
    "B_reshape = np.reshape(B,  (B.shape[0],B.shape[1]*B.shape[2]))\n",
    "B_filtered = np.zeros(np.shape(B_reshape), dtype='uint8')\n",
    "\n",
    "for ii in xrange(0, B_reshape.shape[1]):\n",
    "    if np.corrcoef(B_reshape[:-4,ii], yy)[0,1] < 0:\n",
    "#         print np.corrcoef(B_reshape[:-4,ii], yy)[0,1]\n",
    "        B_filtered[:,ii] = B_reshape[:,ii]\n",
    "\n",
    "B_filtered_reshape = np.reshape(B_filtered,  (B.shape[0],B.shape[1],B.shape[2]))\n",
    "\n",
    "print B_filtered.shape"
   ]
  },
  {
   "cell_type": "code",
   "execution_count": null,
   "metadata": {
    "collapsed": false
   },
   "outputs": [],
   "source": [
    "fig1 = plt.figure(figsize=(18,3))\n",
    "gs = plt.GridSpec(1, 2)\n",
    "ax1 = fig1.add_subplot(gs[0,0])\n",
    "plt.imshow(np.mean(B_filtered_reshape, 0), cmap='copper', vmax = 40)\n",
    "plt.colorbar()\n",
    "plt.axis('off')\n",
    "\n",
    "ax2 = fig1.add_subplot(gs[0,1])\n",
    "plt.plot(np.mean(B_filtered,1), label='bleach corrected');\n",
    "# plt.ylim((1,200))"
   ]
  },
  {
   "cell_type": "code",
   "execution_count": null,
   "metadata": {
    "collapsed": false
   },
   "outputs": [],
   "source": [
    "masked = np.ma.masked_array(np.mean(B_filtered_reshape, 0) > 0, np.mean(B_filtered_reshape, 0))\n",
    "im = np.mean(B, 0)\n",
    "fs = plt.figure()\n",
    "ax = fs.add_subplot((111))\n",
    "plt.imshow(im, 'gray', interpolation='none',  alpha=0.6, vmax =  70)\n",
    "plt.imshow(masked, 'gray', interpolation='none',  alpha=0.6, vmax = 10)\n",
    "plt.axis('off')\n",
    "ax.set_xticks([]) \n",
    "ax.set_yticks([]) \n",
    "plt.show()\n",
    "Tiff_filepath = Save_Directory + filesep + Tif_filename[:-4] + '.png'\n",
    "fs.savefig(Tiff_filepath, bbox_inches='tight', pad_inches=0);"
   ]
  },
  {
   "cell_type": "markdown",
   "metadata": {},
   "source": [
    "### Step 4. Convert to text and save"
   ]
  },
  {
   "cell_type": "code",
   "execution_count": null,
   "metadata": {
    "collapsed": false
   },
   "outputs": [],
   "source": [
    "array_for_textfile = np.zeros((np.size(filtered_correct_image,1)*np.size(filtered_correct_image,2), \n",
    "                               3+np.size(filtered_correct_image,0)))\n",
    "print np.shape(array_for_textfile)\n",
    "array_for_textfile[:,2] = 1\n",
    "\n",
    "count = 0\n",
    "for ii in xrange(0, np.size(filtered_correct_image,1)):\n",
    "    for jj in xrange(0, np.size(filtered_correct_image,2)):\n",
    "        array_for_textfile[count, 0] = ii\n",
    "        array_for_textfile[count, 1] = jj\n",
    "        array_for_textfile[count, 3:] = filtered_correct_image[:, ii, jj]\n",
    "        count += 1\n",
    "        \n",
    "Working_Directory, Tif_filename = os.path.split(Filename)\n",
    "Save_Directory = os.path.join(Working_Directory, 'Bleach_Corrected')\n",
    "if not os.path.exists(Save_Directory):\n",
    "    os.makedirs(Save_Directory)\n",
    "\n",
    "Text_filepath = Save_Directory + filesep + Tif_filename[:-4] + '.txt'\n",
    "np.savetxt(Text_filepath, array_for_textfile, fmt='%f')"
   ]
  },
  {
   "cell_type": "code",
   "execution_count": null,
   "metadata": {
    "collapsed": false
   },
   "outputs": [],
   "source": [
    "# Get excel file as pandas\n",
    "import pandas as pd\n",
    "Data = pd.io.excel.read_excel('/Users/seetha/Desktop/Bleach_Correction/Data/120116/Tiff/Bleach_Corrected/20160112fish3Rpa12/Bleach corrected pixel.xlsx')\n",
    "columnname = list(Data.columns.values)\n",
    "Data.head()"
   ]
  },
  {
   "cell_type": "code",
   "execution_count": null,
   "metadata": {
    "collapsed": false
   },
   "outputs": [],
   "source": [
    "import scipy.fftpack\n",
    "\n",
    "# Number of samplepoints\n",
    "N = len(Data['Y_smooth'])\n",
    "# sample spacing\n",
    "T = 1.0 / 40.0\n",
    "x = Data['X']\n",
    "yf = scipy.fftpack.fft(Data['Y_smooth'])\n",
    "xf = np.linspace(0.0, 1.0/(2.0*T), N/2)\n",
    "\n",
    "fig, [ax1,ax2] = plt.subplots(2,1, figsize=(3,5))\n",
    "ax1.plot(xf[1:], 2.0/N * np.abs(yf[0:N/2])[1:], label='Fourier transform', color=sns.xkcd_rgb[\"pale red\"])\n",
    "plt.legend()\n",
    "\n",
    "ax2.semilogy(xf, 2.0/N * np.abs(yf[0:N/2]), label = 'log')\n",
    "plt.legend()\n",
    "\n",
    "plt.show()"
   ]
  },
  {
   "cell_type": "code",
   "execution_count": null,
   "metadata": {
    "collapsed": false
   },
   "outputs": [],
   "source": [
    "import matplotlib.image as mpimg\n",
    "import plotsettings\n",
    "import seaborn as sns\n",
    "\n",
    "sns.set_context('paper', font_scale=1)\n",
    "\n",
    "publishable = plotsettings.Set('Cell')\n",
    "publishable.set_figsize(n_columns = 3, n_rows = 3)\n",
    "publishable.set_figsize(3, 3, aspect_ratio = 1)\n",
    "\n",
    "fs = plt.figure()\n",
    "gs = plt.GridSpec(2, 2)\n",
    "\n",
    "ax = fs.add_subplot(gs[0, 0])\n",
    "img = mpimg.imread(\"/Users/seetha/Desktop/Bleach_Correction/Data/120116/Tiff/Bleach_Corrected/20160112fish3Rpa12/20160112fish3Rpa12_cropped.tif\");\n",
    "plt.imshow(img)\n",
    "plt.axis('off')\n",
    "ax.set_xticks([]) \n",
    "ax.set_yticks([]) \n",
    "plt.title('Pixels that are showing a poitive slope \\n are brighter')\n",
    "\n",
    "ax = fs.add_subplot(gs[0,1])\n",
    "img = mpimg.imread(\"/Users/seetha/Desktop/Bleach_Correction/Data/120116/Tiff/Bleach_Corrected/20160112fish3Rpa12/AVG_DUP_20160112fish3Rpa12_cropped.tif\");\n",
    "plt.imshow(img)\n",
    "plt.axis('off')\n",
    "ax.set_xticks([]) \n",
    "ax.set_yticks([]) \n",
    "plt.title(\"Blue pixel's traces are plotted in C\")\n",
    "\n",
    "ax = fs.add_subplot(gs[1,0])\n",
    "plt.plot(Data['X'], Data['Y_before_bleaching'], label='Before Bleach correction')\n",
    "plt.plot(Data['X'], Data['Y_after_bleaching'], label ='After Bleach correction')\n",
    "plt.legend()\n",
    "plt.xlabel('Time (seconds)')\n",
    "plt.ylabel('Raw fluoresence')\n",
    "plt.xlim((0, max(Data['X'])))\n",
    "\n",
    "ax = fs.add_subplot(gs[1,1])\n",
    "plt.plot(xf[1:], 2.0/N * np.abs(yf[0:N/2])[1:], label='Fourier transform', color=sns.xkcd_rgb[\"pale red\"])\n",
    "plt.legend()\n",
    "plt.ylim((0,2))\n",
    "plt.xlabel('Frequency (Hz)')\n",
    "\n",
    "plt.tight_layout()\n",
    "\n",
    "publishable.panel_labels(fig = fs, position = 'outside', case = 'upper',\n",
    "                                                 prefix = '', suffix = '.', fontweight = 'bold', fontsize=12)\n",
    "plt.savefig('Voltage_imaging_pixel_20160112fish3Rpa12.pdf')"
   ]
  },
  {
   "cell_type": "code",
   "execution_count": null,
   "metadata": {
    "collapsed": false
   },
   "outputs": [],
   "source": [
    "plt.semilogy(xf, 2.0/N * np.abs(yf[0:N/2]))"
   ]
  },
  {
   "cell_type": "code",
   "execution_count": null,
   "metadata": {
    "collapsed": true
   },
   "outputs": [],
   "source": []
  }
 ],
 "metadata": {
  "kernelspec": {
   "display_name": "Python 2",
   "language": "python",
   "name": "python2"
  },
  "language_info": {
   "codemirror_mode": {
    "name": "ipython",
    "version": 2
   },
   "file_extension": ".py",
   "mimetype": "text/x-python",
   "name": "python",
   "nbconvert_exporter": "python",
   "pygments_lexer": "ipython2",
   "version": "2.7.11"
  }
 },
 "nbformat": 4,
 "nbformat_minor": 0
}
