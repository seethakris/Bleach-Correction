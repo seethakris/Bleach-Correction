{
 "cells": [
  {
   "cell_type": "markdown",
   "metadata": {},
   "source": [
    "# Plot figures"
   ]
  },
  {
   "cell_type": "markdown",
   "metadata": {},
   "source": [
    "### Import libraries "
   ]
  },
  {
   "cell_type": "code",
   "execution_count": 1,
   "metadata": {
    "collapsed": false
   },
   "outputs": [
    {
     "name": "stderr",
     "output_type": "stream",
     "text": [
      "/Users/seetha/anaconda/lib/python2.7/site-packages/matplotlib/font_manager.py:273: UserWarning: Matplotlib is building the font cache using fc-list. This may take a moment.\n",
      "  warnings.warn('Matplotlib is building the font cache using fc-list. This may take a moment.')\n",
      "/Users/seetha/anaconda/lib/python2.7/site-packages/matplotlib/__init__.py:872: UserWarning: axes.color_cycle is deprecated and replaced with axes.prop_cycle; please use the latter.\n",
      "  warnings.warn(self.msg_depr % (key, alt_key))\n"
     ]
    }
   ],
   "source": [
    "# libraries\n",
    "from tifffile import TiffFile\n",
    "import numpy as np\n",
    "import matplotlib.pyplot as plt\n",
    "import matplotlib.patches as patches\n",
    "from thunder import Colorize\n",
    "import seaborn as sns\n",
    "import fit\n",
    "import cv2\n",
    "from scipy.optimize import curve_fit\n",
    "from copy import copy\n",
    "from skimage.morphology import erosion\n",
    "from skimage.morphology import disk\n",
    "import os\n",
    "from scipy.ndimage.filters import median_filter\n",
    "from smooth import smooth\n",
    "from tifffile import imsave\n",
    "from PIL import Image\n",
    "\n",
    "filesep = os.path.sep\n",
    "image = Colorize.image\n",
    "%matplotlib inline"
   ]
  },
  {
   "cell_type": "code",
   "execution_count": 2,
   "metadata": {
    "collapsed": false
   },
   "outputs": [
    {
     "data": {
      "text/html": [
       "<div>\n",
       "<table border=\"1\" class=\"dataframe\">\n",
       "  <thead>\n",
       "    <tr style=\"text-align: right;\">\n",
       "      <th></th>\n",
       "      <th>wavelength</th>\n",
       "      <th>average intensity</th>\n",
       "    </tr>\n",
       "  </thead>\n",
       "  <tbody>\n",
       "    <tr>\n",
       "      <th>0</th>\n",
       "      <td>760</td>\n",
       "      <td>17584.375</td>\n",
       "    </tr>\n",
       "    <tr>\n",
       "      <th>1</th>\n",
       "      <td>780</td>\n",
       "      <td>17301.164</td>\n",
       "    </tr>\n",
       "    <tr>\n",
       "      <th>2</th>\n",
       "      <td>800</td>\n",
       "      <td>21462.570</td>\n",
       "    </tr>\n",
       "    <tr>\n",
       "      <th>3</th>\n",
       "      <td>820</td>\n",
       "      <td>22177.453</td>\n",
       "    </tr>\n",
       "    <tr>\n",
       "      <th>4</th>\n",
       "      <td>840</td>\n",
       "      <td>21912.496</td>\n",
       "    </tr>\n",
       "  </tbody>\n",
       "</table>\n",
       "</div>"
      ],
      "text/plain": [
       "   wavelength  average intensity\n",
       "0         760          17584.375\n",
       "1         780          17301.164\n",
       "2         800          21462.570\n",
       "3         820          22177.453\n",
       "4         840          21912.496"
      ]
     },
     "execution_count": 2,
     "metadata": {},
     "output_type": "execute_result"
    }
   ],
   "source": [
    "# Load trace\n",
    "# Get excel file as pandas\n",
    "import pandas as pd\n",
    "Data = pd.io.excel.read_excel('/Users/seetha/Desktop/Bleach_Correction/Excitation spectrum.xlsx', sheetname=0)\n",
    "Data.head()"
   ]
  },
  {
   "cell_type": "code",
   "execution_count": 3,
   "metadata": {
    "collapsed": false
   },
   "outputs": [],
   "source": [
    "x = Data['wavelength']\n",
    "columnname = list(Data.columns.values)\n",
    "columnname_used = columnname[1]\n",
    "y = Data[columnname_used].as_matrix()"
   ]
  },
  {
   "cell_type": "code",
   "execution_count": 4,
   "metadata": {
    "collapsed": false
   },
   "outputs": [
    {
     "data": {
      "text/html": [
       "<div>\n",
       "<table border=\"1\" class=\"dataframe\">\n",
       "  <thead>\n",
       "    <tr style=\"text-align: right;\">\n",
       "      <th></th>\n",
       "      <th>Time information</th>\n",
       "      <th>fig. 3D</th>\n",
       "    </tr>\n",
       "  </thead>\n",
       "  <tbody>\n",
       "    <tr>\n",
       "      <th>0</th>\n",
       "      <td>timestamp #0100 = 3.440124047506601</td>\n",
       "      <td>1593.192</td>\n",
       "    </tr>\n",
       "    <tr>\n",
       "      <th>1</th>\n",
       "      <td>timestamp #0101 = 3.474654863823205</td>\n",
       "      <td>1577.036</td>\n",
       "    </tr>\n",
       "    <tr>\n",
       "      <th>2</th>\n",
       "      <td>timestamp #0102 = 3.5086928489916027</td>\n",
       "      <td>1573.818</td>\n",
       "    </tr>\n",
       "    <tr>\n",
       "      <th>3</th>\n",
       "      <td>timestamp #0103 = 3.54273083416</td>\n",
       "      <td>1638.505</td>\n",
       "    </tr>\n",
       "    <tr>\n",
       "      <th>4</th>\n",
       "      <td>timestamp #0104 = 3.5767688193283975</td>\n",
       "      <td>1642.418</td>\n",
       "    </tr>\n",
       "  </tbody>\n",
       "</table>\n",
       "</div>"
      ],
      "text/plain": [
       "                       Time information   fig. 3D\n",
       "0   timestamp #0100 = 3.440124047506601  1593.192\n",
       "1   timestamp #0101 = 3.474654863823205  1577.036\n",
       "2  timestamp #0102 = 3.5086928489916027  1573.818\n",
       "3       timestamp #0103 = 3.54273083416  1638.505\n",
       "4  timestamp #0104 = 3.5767688193283975  1642.418"
      ]
     },
     "execution_count": 4,
     "metadata": {},
     "output_type": "execute_result"
    }
   ],
   "source": [
    "# Get excel file as pandas\n",
    "Data1 = pd.io.excel.read_excel('/Users/seetha/Desktop/Bleach_Correction/10dpf1b_analysis.xlsx', sheetname=0)\n",
    "Data1.head()"
   ]
  },
  {
   "cell_type": "code",
   "execution_count": 5,
   "metadata": {
    "collapsed": false
   },
   "outputs": [],
   "source": [
    "x1 = Data1['Time information']\n",
    "x1 = x1.str[18:].convert_objects(convert_numeric=True)\n",
    "columnname = list(Data1.columns.values)\n",
    "columnname_used = columnname[1]\n",
    "y1 = Data1[columnname_used].as_matrix()"
   ]
  },
  {
   "cell_type": "code",
   "execution_count": 6,
   "metadata": {
    "collapsed": false
   },
   "outputs": [
    {
     "name": "stderr",
     "output_type": "stream",
     "text": [
      "/Users/seetha/anaconda/lib/python2.7/site-packages/matplotlib/font_manager.py:1288: UserWarning: findfont: Font family [u'sans-serif'] not found. Falling back to Bitstream Vera Sans\n",
      "  (prop.get_family(), self.defaultFamily[fontext]))\n"
     ]
    },
    {
     "data": {
      "image/png": "[encoded data removed]",
      "text/plain": [
       "<matplotlib.figure.Figure at 0x10b64d490>"
      ]
     },
     "metadata": {},
     "output_type": "display_data"
    }
   ],
   "source": [
    "## Figure 3\n",
    "import plotsettings\n",
    "import matplotlib.patches as mpatches\n",
    "\n",
    "publishable = plotsettings.Set('Cell')\n",
    "publishable.set_figsize(2, 2, aspect_ratio = 1)\n",
    "\n",
    "fig1 = plt.figure()\n",
    "fig1.subplots_adjust(hspace=3)\n",
    "\n",
    "color_mat = ['#00FF00','cyan','#FFFF00','r']\n",
    "with sns.axes_style('darkgrid'):\n",
    "    \n",
    "    ax2 = fig1.add_subplot(2,2,1)\n",
    "    ax2.axis('off')\n",
    "    ax2 = fig1.add_subplot(2,2,3)\n",
    "    ax2.axis('off')\n",
    "    \n",
    "    ax2 = fig1.add_subplot(2,2,2)\n",
    "    ax2.plot(x, y, color='#0C090A', label='raw trace', linewidth=1)           \n",
    "    plt.xlabel('Wavelength (nm)')\n",
    "    plt.ylabel('Average raw Fluorescence')\n",
    "    plt.title('Excitation Spectrum of Bongwoori')\n",
    "    ax2.locator_params(axis='y', nbins=4)\n",
    "    plt.xlim((760,1000)) \n",
    "    \n",
    "    ax2 = fig1.add_subplot(2,2,4)\n",
    "    ax2.plot(x1, y1, color='#0C090A', label='raw trace', linewidth=1)\n",
    "    plt.xlabel('Time (seconds)')\n",
    "    plt.ylabel('Average raw fluorescence')\n",
    "    ax2.locator_params(axis='y', nbins=4)    \n",
    "    plt.xlim((3,48))\n",
    "    plt.ylim((1450,1700))\n",
    "    art = mpatches.Rectangle([10.27,1500], 2, 5, color = 'r')\n",
    "    ax2.add_patch(art)\n",
    "        \n",
    "publishable.panel_labels(fig = fig1, position = 'outside', case = 'upper',\n",
    "                         prefix = '(', suffix = ')', fontweight = 'bold', fontsize=12)\n",
    "    \n",
    "plt.tight_layout()\n",
    "plt.show()\n",
    "\n",
    "\n",
    "Working_Directory = '/Users/seetha/Desktop/Bleach_Correction/'\n",
    "Save_Directory = os.path.join(Working_Directory, 'Traces_bleach_correction')\n",
    "if not os.path.exists(Save_Directory):\n",
    "    os.makedirs(Save_Directory)\n",
    "fig1.savefig(Save_Directory+filesep+'Figure3.pdf', bbox_inches='tight')"
   ]
  },
  {
   "cell_type": "code",
   "execution_count": null,
   "metadata": {
    "collapsed": true
   },
   "outputs": [],
   "source": []
  }
 ],
 "metadata": {
  "kernelspec": {
   "display_name": "Python 2",
   "language": "python",
   "name": "python2"
  },
  "language_info": {
   "codemirror_mode": {
    "name": "ipython",
    "version": 2
   },
   "file_extension": ".py",
   "mimetype": "text/x-python",
   "name": "python",
   "nbconvert_exporter": "python",
   "pygments_lexer": "ipython2",
   "version": "2.7.11"
  }
 },
 "nbformat": 4,
 "nbformat_minor": 0
}
